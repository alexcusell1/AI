{
  "nbformat": 4,
  "nbformat_minor": 0,
  "metadata": {
    "colab": {
      "name": "HW1.ipynb",
      "provenance": [],
      "collapsed_sections": []
    },
    "kernelspec": {
      "name": "python3",
      "display_name": "Python 3"
    }
  },
  "cells": [
    {
      "cell_type": "code",
      "metadata": {
        "id": "t-aXlRYYiQ7H",
        "colab_type": "code",
        "colab": {
          "base_uri": "https://localhost:8080/",
          "height": 476
        },
        "outputId": "17789a47-99ad-4ccc-ac5f-de038b17c552"
      },
      "source": [
        "A=[]\n",
        "ax=int(input(\"Enter N for N x M matrix: \"))\n",
        "ay=int(input(\"Enter M for N x M matrix: \"))         \n",
        "print(\"Enter the element ::>\")\n",
        "for i in range(ax): \n",
        "   row=[]                                      #temporary list to store the row\n",
        "   for j in range(ay): \n",
        "      row.append(int(input()))           #add the input to row list\n",
        "   A.append(row)                      #add the row to the list\n",
        "print(A)\n",
        "# [[1, 2, 3], [4, 5, 6], [7, 8, 9]]\n",
        "#Display the 2D array\n",
        "print(\"Display Array In Matrix Form\")\n",
        "for i in range(ax):\n",
        "   for j in range(ay):\n",
        "      print(A[i][j], end=\" \")\n",
        "   print()                                        #new line\n",
        "B=[]\n",
        "bx=int(input(\"Enter N for N x M matrix: \"))\n",
        "by=int(input(\"Enter M for N x M matrix: \"))         \n",
        "print(\"Enter the element ::>\")\n",
        "for i in range(bx): \n",
        "   row=[]                                      #temporary list to store the row\n",
        "   for j in range(by): \n",
        "      row.append(int(input()))           #add the input to row list\n",
        "\n",
        "   B.append(row)                      #add the row to the list\n",
        "print(B)\n",
        "# [[1, 2, 3], [4, 5, 6], [7, 8, 9]]\n",
        "#Display the 2D array\n",
        "print(\"Display Array In Matrix Form\")\n",
        "for i in range(bx):\n",
        "   for j in range(by):\n",
        "      print(B[i][j], end=\" \")\n",
        "   print()  \n",
        "   \n",
        "                                            \n",
        "result = [[0,0,0], [0,0,0], [0,0,0]] \n",
        "for i in range(len(A)): \n",
        "   for j in range(len(B[0])): \n",
        "      for k in range(len(B)): \n",
        "         result[i][j] += A[i][k] * B[k][j] \n",
        "print(\"The Resultant Matrix Is ::>\")\n",
        "for r in result: \n",
        "   print(r) "
      ],
      "execution_count": 21,
      "outputs": [
        {
          "output_type": "stream",
          "text": [
            "Enter N for N x M matrix: 3\n",
            "Enter M for N x M matrix: 2\n",
            "Enter the element ::>\n",
            "1\n",
            "2\n",
            "3\n",
            "4\n",
            "5\n",
            "6\n",
            "[[1, 2], [3, 4], [5, 6]]\n",
            "Display Array In Matrix Form\n",
            "1 2 \n",
            "3 4 \n",
            "5 6 \n",
            "Enter N for N x M matrix: 2\n",
            "Enter M for N x M matrix: 1\n",
            "Enter the element ::>\n",
            "7\n",
            "8\n",
            "[[7], [8]]\n",
            "Display Array In Matrix Form\n",
            "7 \n",
            "8 \n",
            "The Resultant Matrix Is ::>\n",
            "[23, 0, 0]\n",
            "[53, 0, 0]\n",
            "[83, 0, 0]\n"
          ],
          "name": "stdout"
        }
      ]
    }
  ]
}