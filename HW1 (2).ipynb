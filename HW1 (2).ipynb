{
  "nbformat": 4,
  "nbformat_minor": 0,
  "metadata": {
    "colab": {
      "name": "HW1.ipynb",
      "provenance": [],
      "collapsed_sections": []
    },
    "kernelspec": {
      "name": "python3",
      "display_name": "Python 3"
    }
  },
  "cells": [
    {
      "cell_type": "code",
      "metadata": {
        "id": "t-aXlRYYiQ7H",
        "colab_type": "code",
        "outputId": "bba9a754-e3f6-44ee-89ba-b782fa4106ac",
        "colab": {
          "base_uri": "https://localhost:8080/",
          "height": 476
        }
      },
      "source": [
        "A=[]\n",
        "ax=int(input(\"Please enter the number of rows in matrix A: \"))\n",
        "ay=int(input(\"Please enter the number of columns in matrix A: \"))         \n",
        "print(\"Please enter the values of matrix A, from left to right top to bottom: ::>\")\n",
        "\n",
        "for i in range(ax): \n",
        "   row=[]                                #temporary list to store the row\n",
        "   for j in range(ay): \n",
        "      row.append(int(input()))           #add the input to row list\n",
        "   A.append(row)                         #add the row to the list\n",
        "\n",
        "print(A)\n",
        "print(\"Display Array In Matrix Form\")\n",
        "for i in range(ax):\n",
        "   for j in range(ay):\n",
        "      print(A[i][j], end=\" \")\n",
        "   print()                                        #new line\n",
        "\n",
        "\n",
        "B=[]\n",
        "bx=int(input(\"Please enter the number of rows in matrix B: \"))\n",
        "by=int(input(\"Please enter the number of columns in matrix B: \"))         \n",
        "print(\"Please enter the values of matrix B, from left to right top to bottom: ::>\")\n",
        "\n",
        "for i in range(bx): \n",
        "   row=[]                                #temporary list to store the row\n",
        "   for j in range(by): \n",
        "      row.append(int(input()))           #add the input to row list\n",
        "   B.append(row)                         #add the row to the list\n",
        "\n",
        "print(B)\n",
        "print(\"Display Array In Matrix Form\")\n",
        "for i in range(bx):\n",
        "   for j in range(by):\n",
        "      print(B[i][j], end=\" \")\n",
        "   print()                                           \n",
        "\n",
        "if ay != bx:\n",
        "  print(\"Sorry, these matrices are not compatable for multiplication because the number of columns in matrix A is not equal to the number of rows in matrix B\")\n",
        "\n",
        "if ay == bx:\n",
        "  #result = [[0,0,0], [0,0,0], [0,0,0], [0,0,0], [0,0,0]] \n",
        "  result=[]\n",
        "  entry = 0\n",
        "  for i in range(ax):\n",
        "    row = [] \n",
        "    for j in range(by):\n",
        "      for k in range(ay): \n",
        "        #result[i][j] += A[i][k] * B[k][j] \n",
        "        entry += A[i][k] * B[k][j]\n",
        "    row.append(int(entry))\n",
        "    entry =0\n",
        "    result.append(row)\n",
        "  print(\"The Resultant Matrix Is ::>\")\n",
        "  #for r in result:\n",
        "    #print(r) \n",
        "\n",
        "for i in range(ax):\n",
        "   for j in range(by):\n",
        "      print(result[i][j], end=\" \")\n",
        "   print() "
      ],
      "execution_count": 10,
      "outputs": [
        {
          "output_type": "stream",
          "text": [
            "Please enter the number of rows in matrix A: 3\n",
            "Please enter the number of columns in matrix A: 2\n",
            "Please enter the values of matrix A, from left to right top to bottom: ::>\n",
            "1\n",
            "2\n",
            "3\n",
            "4\n",
            "5\n",
            "6\n",
            "[[1, 2], [3, 4], [5, 6]]\n",
            "Display Array In Matrix Form\n",
            "1 2 \n",
            "3 4 \n",
            "5 6 \n",
            "Please enter the number of rows in matrix B: 2\n",
            "Please enter the number of columns in matrix B: 1\n",
            "Please enter the values of matrix B, from left to right top to bottom: ::>\n",
            "7\n",
            "8\n",
            "[[7], [8]]\n",
            "Display Array In Matrix Form\n",
            "7 \n",
            "8 \n",
            "The Resultant Matrix Is ::>\n",
            "23 \n",
            "53 \n",
            "83 \n"
          ],
          "name": "stdout"
        }
      ]
    }
  ]
}