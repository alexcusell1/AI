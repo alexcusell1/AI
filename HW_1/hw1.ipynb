{
  "nbformat": 4,
  "nbformat_minor": 0,
  "metadata": {
    "colab": {
      "name": "Untitled1.ipynb",
      "provenance": [],
      "collapsed_sections": [],
      "authorship_tag": "ABX9TyOji8grUa4/kphJH40v9bV7",
      "include_colab_link": true
    },
    "kernelspec": {
      "name": "python3",
      "display_name": "Python 3"
    }
  },
  "cells": [
    {
      "cell_type": "markdown",
      "metadata": {
        "id": "view-in-github",
        "colab_type": "text"
      },
      "source": [
        "<a href=\"https://colab.research.google.com/github/alexcusell1/AI/blob/master/hw1.ipynb\" target=\"_parent\"><img src=\"https://colab.research.google.com/assets/colab-badge.svg\" alt=\"Open In Colab\"/></a>"
      ]
    },
    {
      "cell_type": "code",
      "metadata": {
        "id": "FY5tzZPnG3FL",
        "colab_type": "code",
        "colab": {}
      },
      "source": [
        "import numpy\n",
        "def multiply_matricies(array):\n",
        "  answer = array[0]\n",
        "  for index, matrix in enumerate(array[1:]):\n",
        "    (a,columns) = answer.shape\n",
        "    (rows,b) = matrix.shape\n",
        "\n",
        "    if rows != columns:\n",
        "      raise Exception('Theses matricies are not compatable to be multiplied because the first matrix has {} columns and the second matrix has {} rows. In order to multiply matricies, the number of columns in the first matrix must equal the number of rows in the second matrix'.format(columns,rows))\n",
        "\n",
        "    \"\"\"\n",
        "      the above line notifies users when matricies cannot be multiplied\n",
        "    \"\"\"\n",
        "\n",
        "    answer = numpy.matmul(answer, matrix)\n",
        "  return answer"
      ],
      "execution_count": 0,
      "outputs": []
    },
    {
      "cell_type": "markdown",
      "metadata": {
        "id": "KIpULgvayrqB",
        "colab_type": "text"
      },
      "source": [
        "This program takes a list of numpy arrays as input. It then multiplies them and outputs the resultant matrix."
      ]
    }
  ]
}
