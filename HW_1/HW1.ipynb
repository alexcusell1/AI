{
  "nbformat": 4,
  "nbformat_minor": 0,
  "metadata": {
    "colab": {
      "name": "HW1.ipynb",
      "provenance": [],
      "authorship_tag": "ABX9TyM2qGPYaKsFrXY3U0o/WQ6r",
      "include_colab_link": true
    },
    "kernelspec": {
      "name": "python3",
      "display_name": "Python 3"
    }
  },
  "cells": [
    {
      "cell_type": "markdown",
      "metadata": {
        "id": "view-in-github",
        "colab_type": "text"
      },
      "source": [
        "<a href=\"https://colab.research.google.com/github/alexcusell1/AI/blob/master/HW_1/HW1.ipynb\" target=\"_parent\"><img src=\"https://colab.research.google.com/assets/colab-badge.svg\" alt=\"Open In Colab\"/></a>"
      ]
    },
    {
      "cell_type": "code",
      "metadata": {
        "id": "t-aXlRYYiQ7H",
        "colab_type": "code",
        "colab": {
          "base_uri": "https://localhost:8080/",
          "height": 34
        },
        "outputId": "66fba1a7-ad58-4371-e6d3-5b3c3c153d4c"
      },
      "source": [
        "matrix1 = [[12,7,3], \n",
        "        [4 ,5,6], \n",
        "        [7 ,8,9]] \n",
        "matrix2 = [[5,8,1], \n",
        "        [6,7,3], \n",
        "        [4,5,9]] \n",
        "  \n",
        "res = [[0 for x in range(3)] for y in range(3)]  \n",
        "  \n",
        "# explicit for loops \n",
        "for i in range(len(matrix1)): \n",
        "    for j in range(len(matrix2[0])): \n",
        "        for k in range(len(matrix2)): \n",
        "  \n",
        "            # resulted matrix \n",
        "            res[i][j] += matrix1[i][k] * matrix2[k][j] \n",
        "  \n",
        "print (res) \n",
        "\n"
      ],
      "execution_count": 1,
      "outputs": [
        {
          "output_type": "stream",
          "text": [
            "[[114, 160, 60], [74, 97, 73], [119, 157, 112]]\n"
          ],
          "name": "stdout"
        }
      ]
    }
  ]
}